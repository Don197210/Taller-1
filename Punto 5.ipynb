{
 "cells": [
  {
   "cell_type": "code",
   "execution_count": null,
   "metadata": {},
   "outputs": [],
   "source": [
    "a = int(input(\"Introduce el primer numero: \"))\n",
    "b = int(input(\"Introduce el segundo numero: \"))\n",
    "c = int(input(\"Introduce el tercer numero: \"))\n",
    "if (a+b) == c:\n",
    "        print(\"La suma es igual al tercer numero\")\n",
    "if (a+b) > c:\n",
    "    print(\"La suma es mayor al tercer numero\")\n",
    "if (a+b) < c:\n",
    "    print(\"La suma es mmenor al tercer numero\")"
   ]
  }
 ],
 "metadata": {
  "kernelspec": {
   "display_name": "Python 3",
   "language": "python",
   "name": "python3"
  },
  "language_info": {
   "name": "python",
   "version": "3.11.2"
  },
  "orig_nbformat": 4
 },
 "nbformat": 4,
 "nbformat_minor": 2
}
