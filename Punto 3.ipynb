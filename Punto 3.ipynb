{
 "cells": [
  {
   "cell_type": "code",
   "execution_count": null,
   "metadata": {},
   "outputs": [],
   "source": [
    "x = int(input(\"Ingrese un numero: \"))\n",
    "if x % 2 == 0: \n",
    "    print(\"El numero \", x ,\" es par\")\n",
    "else:\n",
    "    print(\"El numero \", x ,\" es impar\")"
   ]
  }
 ],
 "metadata": {
  "language_info": {
   "name": "python"
  },
  "orig_nbformat": 4
 },
 "nbformat": 4,
 "nbformat_minor": 2
}
